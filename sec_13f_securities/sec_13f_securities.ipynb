{
 "cells": [
  {
   "cell_type": "markdown",
   "metadata": {},
   "source": [
    "# Parsing List of Section 13F Securities\n",
    "## Steps\n",
    " 1. Parsing PDF URL from web page using BeautifulSoup\n",
    " 2. Parsging PDF file to dataframe using tabula-py\n",
    " 3. Processing dataframe using Pandas\n",
    " 4. Saving dataframe to .csv\n",
    " 5. Loading data to database using sqlalchemy\n",
    " 6. Verification"
   ]
  },
  {
   "cell_type": "code",
   "execution_count": 101,
   "metadata": {},
   "outputs": [],
   "source": [
    "import sys\n",
    "import base64\n",
    "import pandas as pd\n",
    "import urllib.request\n",
    "from bs4 import BeautifulSoup"
   ]
  },
  {
   "cell_type": "markdown",
   "metadata": {},
   "source": [
    "## 1. Parsing PDF URL from web page"
   ]
  },
  {
   "cell_type": "markdown",
   "metadata": {},
   "source": [
    "### 1.1 Retrieve page source"
   ]
  },
  {
   "cell_type": "code",
   "execution_count": 102,
   "metadata": {},
   "outputs": [],
   "source": [
    "WEB_URL_BASE = 'https://www.sec.gov'\n",
    "WEB_URL_13F = 'https://www.sec.gov/divisions/investment/13flists.htm'"
   ]
  },
  {
   "cell_type": "code",
   "execution_count": 103,
   "metadata": {},
   "outputs": [],
   "source": [
    "def getPageSourceFromURL(weburl):\n",
    "    req = urllib.request.Request(weburl)    \n",
    "    response = urllib.request.urlopen(req)    \n",
    "    the_page = response.read()\n",
    "    type = sys.getfilesystemencoding()\n",
    "    return the_page.decode(type)\n",
    "\n",
    "pageSource = getPageSourceFromURL(WEB_URL_13F)\n",
    "#print(pageSource)"
   ]
  },
  {
   "cell_type": "markdown",
   "metadata": {},
   "source": [
    "### 1.2 Parse PDF url for this quarter"
   ]
  },
  {
   "cell_type": "code",
   "execution_count": 104,
   "metadata": {},
   "outputs": [],
   "source": [
    "soup = BeautifulSoup(pageSource)\n",
    "current_list_ul = soup.find(\"ul\", class_=\"blue-chevron\")\n",
    "#print(current_list_ul)"
   ]
  },
  {
   "cell_type": "code",
   "execution_count": 105,
   "metadata": {
    "scrolled": true
   },
   "outputs": [
    {
     "name": "stdout",
     "output_type": "stream",
     "text": [
      "PDF URL: https://www.sec.gov/divisions/investment/13f/13flist2019q3.pdf\n"
     ]
    }
   ],
   "source": [
    "current_list_a = current_list_ul.find(\"li\").find(\"a\")\n",
    "#print(current_list_a)\n",
    "pdf_url_relative = current_list_a['href']\n",
    "#print(pdf_url_relative)\n",
    "\n",
    "pdf_url = WEB_URL_BASE + pdf_url_relative\n",
    "print(f'PDF URL: {pdf_url}')"
   ]
  },
  {
   "cell_type": "markdown",
   "metadata": {},
   "source": [
    "## 2. Parsging PDF file to dataframe"
   ]
  },
  {
   "cell_type": "code",
   "execution_count": 106,
   "metadata": {},
   "outputs": [
    {
     "name": "stdout",
     "output_type": "stream",
     "text": [
      "527\n"
     ]
    }
   ],
   "source": [
    "import requests, PyPDF2, io\n",
    "\n",
    "response = requests.get(pdf_url)\n",
    "\n",
    "with io.BytesIO(response.content) as open_pdf_file:\n",
    "    read_pdf = PyPDF2.PdfFileReader(open_pdf_file)\n",
    "    num_pages = read_pdf.getNumPages()\n",
    "print(num_pages)"
   ]
  },
  {
   "cell_type": "code",
   "execution_count": 107,
   "metadata": {},
   "outputs": [],
   "source": [
    "from tabula import wrapper\n",
    "df = wrapper.read_pdf(pdf_url,\n",
    "                      pages=f'3-{num_pages}', \n",
    "                      guess=False, \n",
    "                      area=(132, 66, 720, 522), \n",
    "                      columns=(150, 162, 342, 468),\n",
    "                      stream = True,\n",
    "                      pandas_options={'header':None, \n",
    "                                      'names': ['CUSIP', 'OPTION_INDICATOR', 'ISSUER_NAME', 'ISSUER_DESCRIPTION', 'STATUS']}\n",
    "                     )"
   ]
  },
  {
   "cell_type": "code",
   "execution_count": 108,
   "metadata": {},
   "outputs": [
    {
     "data": {
      "text/plain": [
       "(17835, 5)"
      ]
     },
     "execution_count": 108,
     "metadata": {},
     "output_type": "execute_result"
    }
   ],
   "source": [
    "df.shape"
   ]
  },
  {
   "cell_type": "code",
   "execution_count": 109,
   "metadata": {},
   "outputs": [
    {
     "data": {
      "text/html": [
       "<div>\n",
       "<style scoped>\n",
       "    .dataframe tbody tr th:only-of-type {\n",
       "        vertical-align: middle;\n",
       "    }\n",
       "\n",
       "    .dataframe tbody tr th {\n",
       "        vertical-align: top;\n",
       "    }\n",
       "\n",
       "    .dataframe thead th {\n",
       "        text-align: right;\n",
       "    }\n",
       "</style>\n",
       "<table border=\"1\" class=\"dataframe\">\n",
       "  <thead>\n",
       "    <tr style=\"text-align: right;\">\n",
       "      <th></th>\n",
       "      <th>CUSIP</th>\n",
       "      <th>OPTION_INDICATOR</th>\n",
       "      <th>ISSUER_NAME</th>\n",
       "      <th>ISSUER_DESCRIPTION</th>\n",
       "      <th>STATUS</th>\n",
       "    </tr>\n",
       "  </thead>\n",
       "  <tbody>\n",
       "    <tr>\n",
       "      <td>0</td>\n",
       "      <td>B38564 10 8</td>\n",
       "      <td>*</td>\n",
       "      <td>EURONAV NV ANTWERPEN</td>\n",
       "      <td>SHS</td>\n",
       "      <td>NaN</td>\n",
       "    </tr>\n",
       "    <tr>\n",
       "      <td>1</td>\n",
       "      <td>B38564 90 8</td>\n",
       "      <td>NaN</td>\n",
       "      <td>EURONAV NV ANTWERPEN</td>\n",
       "      <td>CALL</td>\n",
       "      <td>NaN</td>\n",
       "    </tr>\n",
       "    <tr>\n",
       "      <td>2</td>\n",
       "      <td>B38564 95 8</td>\n",
       "      <td>NaN</td>\n",
       "      <td>EURONAV NV ANTWERPEN</td>\n",
       "      <td>PUT</td>\n",
       "      <td>NaN</td>\n",
       "    </tr>\n",
       "    <tr>\n",
       "      <td>3</td>\n",
       "      <td>C0534L AA 3</td>\n",
       "      <td>NaN</td>\n",
       "      <td>AURORA CANNABIS INC</td>\n",
       "      <td>DEBT  5.500% 2/2</td>\n",
       "      <td>NaN</td>\n",
       "    </tr>\n",
       "    <tr>\n",
       "      <td>4</td>\n",
       "      <td>C10268 AC 1</td>\n",
       "      <td>NaN</td>\n",
       "      <td>BLACKBERRY LTD</td>\n",
       "      <td>DEBT  3.750%11/1</td>\n",
       "      <td>NaN</td>\n",
       "    </tr>\n",
       "  </tbody>\n",
       "</table>\n",
       "</div>"
      ],
      "text/plain": [
       "         CUSIP OPTION_INDICATOR           ISSUER_NAME ISSUER_DESCRIPTION  \\\n",
       "0  B38564 10 8                *  EURONAV NV ANTWERPEN                SHS   \n",
       "1  B38564 90 8              NaN  EURONAV NV ANTWERPEN               CALL   \n",
       "2  B38564 95 8              NaN  EURONAV NV ANTWERPEN                PUT   \n",
       "3  C0534L AA 3              NaN   AURORA CANNABIS INC   DEBT  5.500% 2/2   \n",
       "4  C10268 AC 1              NaN        BLACKBERRY LTD   DEBT  3.750%11/1   \n",
       "\n",
       "  STATUS  \n",
       "0    NaN  \n",
       "1    NaN  \n",
       "2    NaN  \n",
       "3    NaN  \n",
       "4    NaN  "
      ]
     },
     "execution_count": 109,
     "metadata": {},
     "output_type": "execute_result"
    }
   ],
   "source": [
    "df.head()"
   ]
  },
  {
   "cell_type": "code",
   "execution_count": 110,
   "metadata": {},
   "outputs": [
    {
     "data": {
      "text/html": [
       "<div>\n",
       "<style scoped>\n",
       "    .dataframe tbody tr th:only-of-type {\n",
       "        vertical-align: middle;\n",
       "    }\n",
       "\n",
       "    .dataframe tbody tr th {\n",
       "        vertical-align: top;\n",
       "    }\n",
       "\n",
       "    .dataframe thead th {\n",
       "        text-align: right;\n",
       "    }\n",
       "</style>\n",
       "<table border=\"1\" class=\"dataframe\">\n",
       "  <thead>\n",
       "    <tr style=\"text-align: right;\">\n",
       "      <th></th>\n",
       "      <th>CUSIP</th>\n",
       "      <th>OPTION_INDICATOR</th>\n",
       "      <th>ISSUER_NAME</th>\n",
       "      <th>ISSUER_DESCRIPTION</th>\n",
       "      <th>STATUS</th>\n",
       "    </tr>\n",
       "  </thead>\n",
       "  <tbody>\n",
       "    <tr>\n",
       "      <td>17830</td>\n",
       "      <td>98986T 95 8</td>\n",
       "      <td>NaN</td>\n",
       "      <td>ZYNGA INC</td>\n",
       "      <td>PUT</td>\n",
       "      <td>NaN</td>\n",
       "    </tr>\n",
       "    <tr>\n",
       "      <td>17831</td>\n",
       "      <td>98986X 10 9</td>\n",
       "      <td>*</td>\n",
       "      <td>ZYNERBA PHARMACEUTICALS INC</td>\n",
       "      <td>COM</td>\n",
       "      <td>NaN</td>\n",
       "    </tr>\n",
       "    <tr>\n",
       "      <td>17832</td>\n",
       "      <td>98986X 90 9</td>\n",
       "      <td>NaN</td>\n",
       "      <td>ZYNERBA PHARMACEUTICALS INC</td>\n",
       "      <td>CALL</td>\n",
       "      <td>NaN</td>\n",
       "    </tr>\n",
       "    <tr>\n",
       "      <td>17833</td>\n",
       "      <td>98986X 95 9</td>\n",
       "      <td>NaN</td>\n",
       "      <td>ZYNERBA PHARMACEUTICALS INC</td>\n",
       "      <td>PUT</td>\n",
       "      <td>NaN</td>\n",
       "    </tr>\n",
       "    <tr>\n",
       "      <td>17834</td>\n",
       "      <td>NaN</td>\n",
       "      <td>NaN</td>\n",
       "      <td>NaN</td>\n",
       "      <td>Total Coun</td>\n",
       "      <td>t: 17,834</td>\n",
       "    </tr>\n",
       "  </tbody>\n",
       "</table>\n",
       "</div>"
      ],
      "text/plain": [
       "             CUSIP OPTION_INDICATOR                  ISSUER_NAME  \\\n",
       "17830  98986T 95 8              NaN                    ZYNGA INC   \n",
       "17831  98986X 10 9                *  ZYNERBA PHARMACEUTICALS INC   \n",
       "17832  98986X 90 9              NaN  ZYNERBA PHARMACEUTICALS INC   \n",
       "17833  98986X 95 9              NaN  ZYNERBA PHARMACEUTICALS INC   \n",
       "17834          NaN              NaN                          NaN   \n",
       "\n",
       "      ISSUER_DESCRIPTION     STATUS  \n",
       "17830                PUT        NaN  \n",
       "17831                COM        NaN  \n",
       "17832               CALL        NaN  \n",
       "17833                PUT        NaN  \n",
       "17834         Total Coun  t: 17,834  "
      ]
     },
     "execution_count": 110,
     "metadata": {},
     "output_type": "execute_result"
    }
   ],
   "source": [
    "df.tail()"
   ]
  },
  {
   "cell_type": "markdown",
   "metadata": {},
   "source": [
    "Check counters"
   ]
  },
  {
   "cell_type": "code",
   "execution_count": 111,
   "metadata": {},
   "outputs": [],
   "source": [
    "total_count_text = df.tail(1)['STATUS'].to_string()\n",
    "import re\n",
    "total_count = int(re.findall(\"\\d+\", total_count_text)[0])\n",
    "assert(total_count == df.shape[0]-1), f\"Counters mismatch: {total_count} != {df.shape[0]-1}\""
   ]
  },
  {
   "cell_type": "markdown",
   "metadata": {},
   "source": [
    "## 3. Processing dataframe"
   ]
  },
  {
   "cell_type": "markdown",
   "metadata": {},
   "source": [
    "### 3.1 Reformat CUSIP NO by removing redundant sapces"
   ]
  },
  {
   "cell_type": "code",
   "execution_count": 112,
   "metadata": {},
   "outputs": [],
   "source": [
    "df['CUSIP'] = df['CUSIP'].str.replace(' ', '')"
   ]
  },
  {
   "cell_type": "markdown",
   "metadata": {},
   "source": [
    "### 3.2 Remove last row"
   ]
  },
  {
   "cell_type": "code",
   "execution_count": 113,
   "metadata": {},
   "outputs": [],
   "source": [
    "df = df[:-1]"
   ]
  },
  {
   "cell_type": "markdown",
   "metadata": {},
   "source": [
    "### 3.3 Check results"
   ]
  },
  {
   "cell_type": "code",
   "execution_count": 114,
   "metadata": {},
   "outputs": [
    {
     "data": {
      "text/plain": [
       "(17834, 5)"
      ]
     },
     "execution_count": 114,
     "metadata": {},
     "output_type": "execute_result"
    }
   ],
   "source": [
    "df.shape"
   ]
  },
  {
   "cell_type": "code",
   "execution_count": 115,
   "metadata": {},
   "outputs": [
    {
     "data": {
      "text/html": [
       "<div>\n",
       "<style scoped>\n",
       "    .dataframe tbody tr th:only-of-type {\n",
       "        vertical-align: middle;\n",
       "    }\n",
       "\n",
       "    .dataframe tbody tr th {\n",
       "        vertical-align: top;\n",
       "    }\n",
       "\n",
       "    .dataframe thead th {\n",
       "        text-align: right;\n",
       "    }\n",
       "</style>\n",
       "<table border=\"1\" class=\"dataframe\">\n",
       "  <thead>\n",
       "    <tr style=\"text-align: right;\">\n",
       "      <th></th>\n",
       "      <th>CUSIP</th>\n",
       "      <th>OPTION_INDICATOR</th>\n",
       "      <th>ISSUER_NAME</th>\n",
       "      <th>ISSUER_DESCRIPTION</th>\n",
       "      <th>STATUS</th>\n",
       "    </tr>\n",
       "  </thead>\n",
       "  <tbody>\n",
       "    <tr>\n",
       "      <td>17829</td>\n",
       "      <td>98986T908</td>\n",
       "      <td>NaN</td>\n",
       "      <td>ZYNGA INC</td>\n",
       "      <td>CALL</td>\n",
       "      <td>NaN</td>\n",
       "    </tr>\n",
       "    <tr>\n",
       "      <td>17830</td>\n",
       "      <td>98986T958</td>\n",
       "      <td>NaN</td>\n",
       "      <td>ZYNGA INC</td>\n",
       "      <td>PUT</td>\n",
       "      <td>NaN</td>\n",
       "    </tr>\n",
       "    <tr>\n",
       "      <td>17831</td>\n",
       "      <td>98986X109</td>\n",
       "      <td>*</td>\n",
       "      <td>ZYNERBA PHARMACEUTICALS INC</td>\n",
       "      <td>COM</td>\n",
       "      <td>NaN</td>\n",
       "    </tr>\n",
       "    <tr>\n",
       "      <td>17832</td>\n",
       "      <td>98986X909</td>\n",
       "      <td>NaN</td>\n",
       "      <td>ZYNERBA PHARMACEUTICALS INC</td>\n",
       "      <td>CALL</td>\n",
       "      <td>NaN</td>\n",
       "    </tr>\n",
       "    <tr>\n",
       "      <td>17833</td>\n",
       "      <td>98986X959</td>\n",
       "      <td>NaN</td>\n",
       "      <td>ZYNERBA PHARMACEUTICALS INC</td>\n",
       "      <td>PUT</td>\n",
       "      <td>NaN</td>\n",
       "    </tr>\n",
       "  </tbody>\n",
       "</table>\n",
       "</div>"
      ],
      "text/plain": [
       "           CUSIP OPTION_INDICATOR                  ISSUER_NAME  \\\n",
       "17829  98986T908              NaN                    ZYNGA INC   \n",
       "17830  98986T958              NaN                    ZYNGA INC   \n",
       "17831  98986X109                *  ZYNERBA PHARMACEUTICALS INC   \n",
       "17832  98986X909              NaN  ZYNERBA PHARMACEUTICALS INC   \n",
       "17833  98986X959              NaN  ZYNERBA PHARMACEUTICALS INC   \n",
       "\n",
       "      ISSUER_DESCRIPTION STATUS  \n",
       "17829               CALL    NaN  \n",
       "17830                PUT    NaN  \n",
       "17831                COM    NaN  \n",
       "17832               CALL    NaN  \n",
       "17833                PUT    NaN  "
      ]
     },
     "execution_count": 115,
     "metadata": {},
     "output_type": "execute_result"
    }
   ],
   "source": [
    "df.tail()"
   ]
  },
  {
   "cell_type": "markdown",
   "metadata": {},
   "source": [
    "### 3.4 Raw data analysis"
   ]
  },
  {
   "cell_type": "markdown",
   "metadata": {},
   "source": [
    "#### 3.4.1 Dump duplicated rows"
   ]
  },
  {
   "cell_type": "code",
   "execution_count": 116,
   "metadata": {
    "scrolled": true
   },
   "outputs": [
    {
     "data": {
      "text/html": [
       "<div>\n",
       "<style scoped>\n",
       "    .dataframe tbody tr th:only-of-type {\n",
       "        vertical-align: middle;\n",
       "    }\n",
       "\n",
       "    .dataframe tbody tr th {\n",
       "        vertical-align: top;\n",
       "    }\n",
       "\n",
       "    .dataframe thead th {\n",
       "        text-align: right;\n",
       "    }\n",
       "</style>\n",
       "<table border=\"1\" class=\"dataframe\">\n",
       "  <thead>\n",
       "    <tr style=\"text-align: right;\">\n",
       "      <th></th>\n",
       "      <th>CUSIP</th>\n",
       "      <th>OPTION_INDICATOR</th>\n",
       "      <th>ISSUER_NAME</th>\n",
       "      <th>ISSUER_DESCRIPTION</th>\n",
       "      <th>STATUS</th>\n",
       "    </tr>\n",
       "  </thead>\n",
       "  <tbody>\n",
       "    <tr>\n",
       "      <td>1096</td>\n",
       "      <td>00162Q906</td>\n",
       "      <td>NaN</td>\n",
       "      <td>ALPS ETF TR</td>\n",
       "      <td>CALL</td>\n",
       "      <td>NaN</td>\n",
       "    </tr>\n",
       "    <tr>\n",
       "      <td>1097</td>\n",
       "      <td>00162Q956</td>\n",
       "      <td>NaN</td>\n",
       "      <td>ALPS ETF TR</td>\n",
       "      <td>PUT</td>\n",
       "      <td>NaN</td>\n",
       "    </tr>\n",
       "    <tr>\n",
       "      <td>2684</td>\n",
       "      <td>06746P908</td>\n",
       "      <td>NaN</td>\n",
       "      <td>BARCLAYS BK PLC</td>\n",
       "      <td>CALL</td>\n",
       "      <td>NaN</td>\n",
       "    </tr>\n",
       "    <tr>\n",
       "      <td>2685</td>\n",
       "      <td>06746P958</td>\n",
       "      <td>NaN</td>\n",
       "      <td>BARCLAYS BK PLC</td>\n",
       "      <td>PUT</td>\n",
       "      <td>NaN</td>\n",
       "    </tr>\n",
       "    <tr>\n",
       "      <td>2695</td>\n",
       "      <td>06746P903</td>\n",
       "      <td>NaN</td>\n",
       "      <td>BARCLAYS BK PLC</td>\n",
       "      <td>CALL</td>\n",
       "      <td>NaN</td>\n",
       "    </tr>\n",
       "    <tr>\n",
       "      <td>...</td>\n",
       "      <td>...</td>\n",
       "      <td>...</td>\n",
       "      <td>...</td>\n",
       "      <td>...</td>\n",
       "      <td>...</td>\n",
       "    </tr>\n",
       "    <tr>\n",
       "      <td>17529</td>\n",
       "      <td>97717W956</td>\n",
       "      <td>NaN</td>\n",
       "      <td>WISDOMTREE TR</td>\n",
       "      <td>PUT</td>\n",
       "      <td>NaN</td>\n",
       "    </tr>\n",
       "    <tr>\n",
       "      <td>17532</td>\n",
       "      <td>97717W901</td>\n",
       "      <td>NaN</td>\n",
       "      <td>WISDOMTREE TR</td>\n",
       "      <td>CALL</td>\n",
       "      <td>NaN</td>\n",
       "    </tr>\n",
       "    <tr>\n",
       "      <td>17533</td>\n",
       "      <td>97717W951</td>\n",
       "      <td>NaN</td>\n",
       "      <td>WISDOMTREE TR</td>\n",
       "      <td>PUT</td>\n",
       "      <td>NaN</td>\n",
       "    </tr>\n",
       "    <tr>\n",
       "      <td>17535</td>\n",
       "      <td>97717W909</td>\n",
       "      <td>NaN</td>\n",
       "      <td>WISDOMTREE TR</td>\n",
       "      <td>CALL</td>\n",
       "      <td>NaN</td>\n",
       "    </tr>\n",
       "    <tr>\n",
       "      <td>17536</td>\n",
       "      <td>97717W959</td>\n",
       "      <td>NaN</td>\n",
       "      <td>WISDOMTREE TR</td>\n",
       "      <td>PUT</td>\n",
       "      <td>NaN</td>\n",
       "    </tr>\n",
       "  </tbody>\n",
       "</table>\n",
       "<p>600 rows × 5 columns</p>\n",
       "</div>"
      ],
      "text/plain": [
       "           CUSIP OPTION_INDICATOR      ISSUER_NAME ISSUER_DESCRIPTION STATUS\n",
       "1096   00162Q906              NaN      ALPS ETF TR               CALL    NaN\n",
       "1097   00162Q956              NaN      ALPS ETF TR                PUT    NaN\n",
       "2684   06746P908              NaN  BARCLAYS BK PLC               CALL    NaN\n",
       "2685   06746P958              NaN  BARCLAYS BK PLC                PUT    NaN\n",
       "2695   06746P903              NaN  BARCLAYS BK PLC               CALL    NaN\n",
       "...          ...              ...              ...                ...    ...\n",
       "17529  97717W956              NaN    WISDOMTREE TR                PUT    NaN\n",
       "17532  97717W901              NaN    WISDOMTREE TR               CALL    NaN\n",
       "17533  97717W951              NaN    WISDOMTREE TR                PUT    NaN\n",
       "17535  97717W909              NaN    WISDOMTREE TR               CALL    NaN\n",
       "17536  97717W959              NaN    WISDOMTREE TR                PUT    NaN\n",
       "\n",
       "[600 rows x 5 columns]"
      ]
     },
     "execution_count": 116,
     "metadata": {},
     "output_type": "execute_result"
    }
   ],
   "source": [
    "df_duplicate_row = df[df.duplicated()]\n",
    "df_duplicate_row"
   ]
  },
  {
   "cell_type": "markdown",
   "metadata": {},
   "source": [
    "#### 3.4.2 Drop duplicates sand save it to df_unique"
   ]
  },
  {
   "cell_type": "code",
   "execution_count": 117,
   "metadata": {},
   "outputs": [
    {
     "data": {
      "text/plain": [
       "(17234, 5)"
      ]
     },
     "execution_count": 117,
     "metadata": {},
     "output_type": "execute_result"
    }
   ],
   "source": [
    "df_unique = df.drop_duplicates()\n",
    "df_unique.shape"
   ]
  },
  {
   "cell_type": "markdown",
   "metadata": {},
   "source": [
    "#### 3.4.3 Calculate number of duplicate rows"
   ]
  },
  {
   "cell_type": "code",
   "execution_count": 118,
   "metadata": {},
   "outputs": [
    {
     "name": "stdout",
     "output_type": "stream",
     "text": [
      "Number of duplicate records: 600, 600\n"
     ]
    }
   ],
   "source": [
    "print(f'Number of duplicate records: {df.shape[0] - df_unique.shape[0]}, {df_duplicate_row.shape[0]}')"
   ]
  },
  {
   "cell_type": "markdown",
   "metadata": {},
   "source": [
    "#### 3.4.4 Dump duplicate CUSIP"
   ]
  },
  {
   "cell_type": "code",
   "execution_count": 119,
   "metadata": {},
   "outputs": [
    {
     "data": {
      "text/html": [
       "<div>\n",
       "<style scoped>\n",
       "    .dataframe tbody tr th:only-of-type {\n",
       "        vertical-align: middle;\n",
       "    }\n",
       "\n",
       "    .dataframe tbody tr th {\n",
       "        vertical-align: top;\n",
       "    }\n",
       "\n",
       "    .dataframe thead th {\n",
       "        text-align: right;\n",
       "    }\n",
       "</style>\n",
       "<table border=\"1\" class=\"dataframe\">\n",
       "  <thead>\n",
       "    <tr style=\"text-align: right;\">\n",
       "      <th></th>\n",
       "      <th>CUSIP</th>\n",
       "      <th>OPTION_INDICATOR</th>\n",
       "      <th>ISSUER_NAME</th>\n",
       "      <th>ISSUER_DESCRIPTION</th>\n",
       "      <th>STATUS</th>\n",
       "    </tr>\n",
       "  </thead>\n",
       "  <tbody>\n",
       "    <tr>\n",
       "      <td>13188</td>\n",
       "      <td>74347B902</td>\n",
       "      <td>NaN</td>\n",
       "      <td>PROSHARES TR</td>\n",
       "      <td>CALL</td>\n",
       "      <td>DELETED</td>\n",
       "    </tr>\n",
       "    <tr>\n",
       "      <td>13189</td>\n",
       "      <td>74347B952</td>\n",
       "      <td>NaN</td>\n",
       "      <td>PROSHARES TR</td>\n",
       "      <td>PUT</td>\n",
       "      <td>DELETED</td>\n",
       "    </tr>\n",
       "    <tr>\n",
       "      <td>13421</td>\n",
       "      <td>74348A904</td>\n",
       "      <td>NaN</td>\n",
       "      <td>PROSHARES TR</td>\n",
       "      <td>CALL</td>\n",
       "      <td>NaN</td>\n",
       "    </tr>\n",
       "    <tr>\n",
       "      <td>13422</td>\n",
       "      <td>74348A954</td>\n",
       "      <td>NaN</td>\n",
       "      <td>PROSHARES TR</td>\n",
       "      <td>PUT</td>\n",
       "      <td>NaN</td>\n",
       "    </tr>\n",
       "  </tbody>\n",
       "</table>\n",
       "</div>"
      ],
      "text/plain": [
       "           CUSIP OPTION_INDICATOR   ISSUER_NAME ISSUER_DESCRIPTION   STATUS\n",
       "13188  74347B902              NaN  PROSHARES TR               CALL  DELETED\n",
       "13189  74347B952              NaN  PROSHARES TR                PUT  DELETED\n",
       "13421  74348A904              NaN  PROSHARES TR               CALL      NaN\n",
       "13422  74348A954              NaN  PROSHARES TR                PUT      NaN"
      ]
     },
     "execution_count": 119,
     "metadata": {},
     "output_type": "execute_result"
    }
   ],
   "source": [
    "df_duplicate_cusip = df_unique[df_unique.duplicated(subset='CUSIP')]\n",
    "df_duplicate_cusip"
   ]
  },
  {
   "cell_type": "markdown",
   "metadata": {},
   "source": [
    "#### 3.4.5 Calculate number of duplicate CUSIPs"
   ]
  },
  {
   "cell_type": "code",
   "execution_count": 120,
   "metadata": {
    "scrolled": true
   },
   "outputs": [
    {
     "name": "stdout",
     "output_type": "stream",
     "text": [
      "Number of duplicate CUSIP after dropping duplicate records: 4\n"
     ]
    }
   ],
   "source": [
    "print(f'Number of duplicate CUSIP after dropping duplicate records: {df_duplicate_cusip.shape[0]}')"
   ]
  },
  {
   "cell_type": "markdown",
   "metadata": {},
   "source": [
    "## 4. Save to CSV file"
   ]
  },
  {
   "cell_type": "code",
   "execution_count": 121,
   "metadata": {},
   "outputs": [
    {
     "name": "stdout",
     "output_type": "stream",
     "text": [
      "Saved to file 13flist2019q3.csv\n"
     ]
    }
   ],
   "source": [
    "pdf_file_name = pdf_url.split('/')[-1].replace('pdf', 'csv')\n",
    "df.to_csv(index=False, path_or_buf=pdf_file_name)\n",
    "print(f'Saved to file {pdf_file_name}')"
   ]
  },
  {
   "cell_type": "markdown",
   "metadata": {},
   "source": [
    "## 5. Load dataframe to HANA table"
   ]
  },
  {
   "cell_type": "markdown",
   "metadata": {},
   "source": [
    "### 5.1 Add EFF_DATE column"
   ]
  },
  {
   "cell_type": "code",
   "execution_count": 122,
   "metadata": {},
   "outputs": [],
   "source": [
    "# Get quater from pdf_file_name\n",
    "QUARTER_END_DATES = ['03-31', '06-30', '09-30', '12-31']\n",
    "year, quarter = pdf_file_name[-len('2019q3.csv') : -len('q3.csv')], pdf_file_name[-len('3.csv') : -len('.csv')]\n",
    "quarter_end_date = QUARTER_END_DATES[int(quarter) - 1]\n",
    "\n",
    "eff_date = f'{year}-{quarter_end_date}'\n",
    "\n",
    "df['EFF_DATE'] = eff_date"
   ]
  },
  {
   "cell_type": "code",
   "execution_count": 123,
   "metadata": {},
   "outputs": [
    {
     "data": {
      "text/html": [
       "<div>\n",
       "<style scoped>\n",
       "    .dataframe tbody tr th:only-of-type {\n",
       "        vertical-align: middle;\n",
       "    }\n",
       "\n",
       "    .dataframe tbody tr th {\n",
       "        vertical-align: top;\n",
       "    }\n",
       "\n",
       "    .dataframe thead th {\n",
       "        text-align: right;\n",
       "    }\n",
       "</style>\n",
       "<table border=\"1\" class=\"dataframe\">\n",
       "  <thead>\n",
       "    <tr style=\"text-align: right;\">\n",
       "      <th></th>\n",
       "      <th>CUSIP</th>\n",
       "      <th>OPTION_INDICATOR</th>\n",
       "      <th>ISSUER_NAME</th>\n",
       "      <th>ISSUER_DESCRIPTION</th>\n",
       "      <th>STATUS</th>\n",
       "      <th>EFF_DATE</th>\n",
       "    </tr>\n",
       "  </thead>\n",
       "  <tbody>\n",
       "    <tr>\n",
       "      <td>0</td>\n",
       "      <td>B38564108</td>\n",
       "      <td>*</td>\n",
       "      <td>EURONAV NV ANTWERPEN</td>\n",
       "      <td>SHS</td>\n",
       "      <td>NaN</td>\n",
       "      <td>2019-09-30</td>\n",
       "    </tr>\n",
       "    <tr>\n",
       "      <td>1</td>\n",
       "      <td>B38564908</td>\n",
       "      <td>NaN</td>\n",
       "      <td>EURONAV NV ANTWERPEN</td>\n",
       "      <td>CALL</td>\n",
       "      <td>NaN</td>\n",
       "      <td>2019-09-30</td>\n",
       "    </tr>\n",
       "    <tr>\n",
       "      <td>2</td>\n",
       "      <td>B38564958</td>\n",
       "      <td>NaN</td>\n",
       "      <td>EURONAV NV ANTWERPEN</td>\n",
       "      <td>PUT</td>\n",
       "      <td>NaN</td>\n",
       "      <td>2019-09-30</td>\n",
       "    </tr>\n",
       "    <tr>\n",
       "      <td>3</td>\n",
       "      <td>C0534LAA3</td>\n",
       "      <td>NaN</td>\n",
       "      <td>AURORA CANNABIS INC</td>\n",
       "      <td>DEBT  5.500% 2/2</td>\n",
       "      <td>NaN</td>\n",
       "      <td>2019-09-30</td>\n",
       "    </tr>\n",
       "    <tr>\n",
       "      <td>4</td>\n",
       "      <td>C10268AC1</td>\n",
       "      <td>NaN</td>\n",
       "      <td>BLACKBERRY LTD</td>\n",
       "      <td>DEBT  3.750%11/1</td>\n",
       "      <td>NaN</td>\n",
       "      <td>2019-09-30</td>\n",
       "    </tr>\n",
       "  </tbody>\n",
       "</table>\n",
       "</div>"
      ],
      "text/plain": [
       "       CUSIP OPTION_INDICATOR           ISSUER_NAME ISSUER_DESCRIPTION STATUS  \\\n",
       "0  B38564108                *  EURONAV NV ANTWERPEN                SHS    NaN   \n",
       "1  B38564908              NaN  EURONAV NV ANTWERPEN               CALL    NaN   \n",
       "2  B38564958              NaN  EURONAV NV ANTWERPEN                PUT    NaN   \n",
       "3  C0534LAA3              NaN   AURORA CANNABIS INC   DEBT  5.500% 2/2    NaN   \n",
       "4  C10268AC1              NaN        BLACKBERRY LTD   DEBT  3.750%11/1    NaN   \n",
       "\n",
       "     EFF_DATE  \n",
       "0  2019-09-30  \n",
       "1  2019-09-30  \n",
       "2  2019-09-30  \n",
       "3  2019-09-30  \n",
       "4  2019-09-30  "
      ]
     },
     "execution_count": 123,
     "metadata": {},
     "output_type": "execute_result"
    }
   ],
   "source": [
    "df.head()"
   ]
  },
  {
   "cell_type": "markdown",
   "metadata": {},
   "source": [
    "### 5.2 Create a connection to database"
   ]
  },
  {
   "cell_type": "code",
   "execution_count": 29,
   "metadata": {},
   "outputs": [],
   "source": [
    "hana_host = 'my.sap.hana.host'\n",
    "hana_port = 30215\n",
    "hana_user = 'mydbuser'\n",
    "hana_password = 'mypassword'\n",
    "hana_tenant_db_name = 'MYBIP'\n",
    "\n",
    "# use lower case for both schedma and name\n",
    "hana_schema = 'vendor_data'\n",
    "hana_table = 'sec_13f_securities'"
   ]
  },
  {
   "cell_type": "code",
   "execution_count": 30,
   "metadata": {},
   "outputs": [],
   "source": [
    "from sqlalchemy import create_engine\n",
    "\n",
    "connection_string = f'hana://{hana_user}:{hana_password}@{hana_host}:{hana_port}/{hana_tenant_db_name}'\n",
    "engine = create_engine(connection_string)"
   ]
  },
  {
   "cell_type": "markdown",
   "metadata": {},
   "source": [
    "### 5.3 Save data to database"
   ]
  },
  {
   "cell_type": "code",
   "execution_count": 31,
   "metadata": {},
   "outputs": [
    {
     "name": "stdout",
     "output_type": "stream",
     "text": [
      "17834 records have been inserted into HANA table VENDOR_DATA.SEC_13F_SECURITIES\n"
     ]
    }
   ],
   "source": [
    "df.to_sql(con=engine, schema=hana_schema, name=hana_table, if_exists='append', index=False, chunksize=10000)\n",
    "print(f'{df.shape[0]} records have been inserted into HANA table {hana_schema.upper()}.{hana_table.upper()}')"
   ]
  },
  {
   "cell_type": "markdown",
   "metadata": {},
   "source": [
    "## 6. Verification"
   ]
  },
  {
   "cell_type": "markdown",
   "metadata": {},
   "source": [
    "### 6.1 Copy back data from HANA by querying against the EFF_DATE"
   ]
  },
  {
   "cell_type": "code",
   "execution_count": 32,
   "metadata": {},
   "outputs": [],
   "source": [
    "query_statement = f\"select * from {hana_schema}.{hana_table} where EFF_DATE='{eff_date}'\"\n",
    "df_hana = pd.read_sql_query(query_statement, engine)"
   ]
  },
  {
   "cell_type": "markdown",
   "metadata": {},
   "source": [
    "### 6.2 Check number of records in database"
   ]
  },
  {
   "cell_type": "code",
   "execution_count": 33,
   "metadata": {},
   "outputs": [
    {
     "data": {
      "text/plain": [
       "(17834, 6)"
      ]
     },
     "execution_count": 33,
     "metadata": {},
     "output_type": "execute_result"
    }
   ],
   "source": [
    "df_hana.shape"
   ]
  },
  {
   "cell_type": "markdown",
   "metadata": {},
   "source": [
    "### 6.3 Verifiy the data are correct"
   ]
  },
  {
   "cell_type": "code",
   "execution_count": 34,
   "metadata": {},
   "outputs": [
    {
     "data": {
      "text/html": [
       "<div>\n",
       "<style scoped>\n",
       "    .dataframe tbody tr th:only-of-type {\n",
       "        vertical-align: middle;\n",
       "    }\n",
       "\n",
       "    .dataframe tbody tr th {\n",
       "        vertical-align: top;\n",
       "    }\n",
       "\n",
       "    .dataframe thead th {\n",
       "        text-align: right;\n",
       "    }\n",
       "</style>\n",
       "<table border=\"1\" class=\"dataframe\">\n",
       "  <thead>\n",
       "    <tr style=\"text-align: right;\">\n",
       "      <th></th>\n",
       "      <th>cusip</th>\n",
       "      <th>option_indicator</th>\n",
       "      <th>issuer_name</th>\n",
       "      <th>issuer_description</th>\n",
       "      <th>status</th>\n",
       "      <th>eff_date</th>\n",
       "    </tr>\n",
       "  </thead>\n",
       "  <tbody>\n",
       "    <tr>\n",
       "      <td>0</td>\n",
       "      <td>B38564108</td>\n",
       "      <td>*</td>\n",
       "      <td>EURONAV NV ANTWERPEN</td>\n",
       "      <td>SHS</td>\n",
       "      <td>None</td>\n",
       "      <td>2019-09-30</td>\n",
       "    </tr>\n",
       "    <tr>\n",
       "      <td>1</td>\n",
       "      <td>B38564908</td>\n",
       "      <td>None</td>\n",
       "      <td>EURONAV NV ANTWERPEN</td>\n",
       "      <td>CALL</td>\n",
       "      <td>None</td>\n",
       "      <td>2019-09-30</td>\n",
       "    </tr>\n",
       "    <tr>\n",
       "      <td>2</td>\n",
       "      <td>B38564958</td>\n",
       "      <td>None</td>\n",
       "      <td>EURONAV NV ANTWERPEN</td>\n",
       "      <td>PUT</td>\n",
       "      <td>None</td>\n",
       "      <td>2019-09-30</td>\n",
       "    </tr>\n",
       "    <tr>\n",
       "      <td>3</td>\n",
       "      <td>C0534LAA3</td>\n",
       "      <td>None</td>\n",
       "      <td>AURORA CANNABIS INC</td>\n",
       "      <td>DEBT  5.500% 2/2</td>\n",
       "      <td>None</td>\n",
       "      <td>2019-09-30</td>\n",
       "    </tr>\n",
       "    <tr>\n",
       "      <td>4</td>\n",
       "      <td>C10268AC1</td>\n",
       "      <td>None</td>\n",
       "      <td>BLACKBERRY LTD</td>\n",
       "      <td>DEBT  3.750%11/1</td>\n",
       "      <td>None</td>\n",
       "      <td>2019-09-30</td>\n",
       "    </tr>\n",
       "  </tbody>\n",
       "</table>\n",
       "</div>"
      ],
      "text/plain": [
       "       cusip option_indicator           issuer_name issuer_description status  \\\n",
       "0  B38564108                *  EURONAV NV ANTWERPEN                SHS   None   \n",
       "1  B38564908             None  EURONAV NV ANTWERPEN               CALL   None   \n",
       "2  B38564958             None  EURONAV NV ANTWERPEN                PUT   None   \n",
       "3  C0534LAA3             None   AURORA CANNABIS INC   DEBT  5.500% 2/2   None   \n",
       "4  C10268AC1             None        BLACKBERRY LTD   DEBT  3.750%11/1   None   \n",
       "\n",
       "     eff_date  \n",
       "0  2019-09-30  \n",
       "1  2019-09-30  \n",
       "2  2019-09-30  \n",
       "3  2019-09-30  \n",
       "4  2019-09-30  "
      ]
     },
     "execution_count": 34,
     "metadata": {},
     "output_type": "execute_result"
    }
   ],
   "source": [
    "df_hana.head()"
   ]
  },
  {
   "cell_type": "code",
   "execution_count": 35,
   "metadata": {},
   "outputs": [
    {
     "data": {
      "text/html": [
       "<div>\n",
       "<style scoped>\n",
       "    .dataframe tbody tr th:only-of-type {\n",
       "        vertical-align: middle;\n",
       "    }\n",
       "\n",
       "    .dataframe tbody tr th {\n",
       "        vertical-align: top;\n",
       "    }\n",
       "\n",
       "    .dataframe thead th {\n",
       "        text-align: right;\n",
       "    }\n",
       "</style>\n",
       "<table border=\"1\" class=\"dataframe\">\n",
       "  <thead>\n",
       "    <tr style=\"text-align: right;\">\n",
       "      <th></th>\n",
       "      <th>cusip</th>\n",
       "      <th>option_indicator</th>\n",
       "      <th>issuer_name</th>\n",
       "      <th>issuer_description</th>\n",
       "      <th>status</th>\n",
       "      <th>eff_date</th>\n",
       "    </tr>\n",
       "  </thead>\n",
       "  <tbody>\n",
       "    <tr>\n",
       "      <td>17829</td>\n",
       "      <td>98986T908</td>\n",
       "      <td>None</td>\n",
       "      <td>ZYNGA INC</td>\n",
       "      <td>CALL</td>\n",
       "      <td>None</td>\n",
       "      <td>2019-09-30</td>\n",
       "    </tr>\n",
       "    <tr>\n",
       "      <td>17830</td>\n",
       "      <td>98986T958</td>\n",
       "      <td>None</td>\n",
       "      <td>ZYNGA INC</td>\n",
       "      <td>PUT</td>\n",
       "      <td>None</td>\n",
       "      <td>2019-09-30</td>\n",
       "    </tr>\n",
       "    <tr>\n",
       "      <td>17831</td>\n",
       "      <td>98986X109</td>\n",
       "      <td>*</td>\n",
       "      <td>ZYNERBA PHARMACEUTICALS INC</td>\n",
       "      <td>COM</td>\n",
       "      <td>None</td>\n",
       "      <td>2019-09-30</td>\n",
       "    </tr>\n",
       "    <tr>\n",
       "      <td>17832</td>\n",
       "      <td>98986X909</td>\n",
       "      <td>None</td>\n",
       "      <td>ZYNERBA PHARMACEUTICALS INC</td>\n",
       "      <td>CALL</td>\n",
       "      <td>None</td>\n",
       "      <td>2019-09-30</td>\n",
       "    </tr>\n",
       "    <tr>\n",
       "      <td>17833</td>\n",
       "      <td>98986X959</td>\n",
       "      <td>None</td>\n",
       "      <td>ZYNERBA PHARMACEUTICALS INC</td>\n",
       "      <td>PUT</td>\n",
       "      <td>None</td>\n",
       "      <td>2019-09-30</td>\n",
       "    </tr>\n",
       "  </tbody>\n",
       "</table>\n",
       "</div>"
      ],
      "text/plain": [
       "           cusip option_indicator                  issuer_name  \\\n",
       "17829  98986T908             None                    ZYNGA INC   \n",
       "17830  98986T958             None                    ZYNGA INC   \n",
       "17831  98986X109                *  ZYNERBA PHARMACEUTICALS INC   \n",
       "17832  98986X909             None  ZYNERBA PHARMACEUTICALS INC   \n",
       "17833  98986X959             None  ZYNERBA PHARMACEUTICALS INC   \n",
       "\n",
       "      issuer_description status    eff_date  \n",
       "17829               CALL   None  2019-09-30  \n",
       "17830                PUT   None  2019-09-30  \n",
       "17831                COM   None  2019-09-30  \n",
       "17832               CALL   None  2019-09-30  \n",
       "17833                PUT   None  2019-09-30  "
      ]
     },
     "execution_count": 35,
     "metadata": {},
     "output_type": "execute_result"
    }
   ],
   "source": [
    "df_hana.tail()"
   ]
  },
  {
   "cell_type": "code",
   "execution_count": 36,
   "metadata": {},
   "outputs": [
    {
     "data": {
      "text/plain": [
       "True"
      ]
     },
     "execution_count": 36,
     "metadata": {},
     "output_type": "execute_result"
    }
   ],
   "source": [
    "# reset column names, it's all lower case names for df_hana.columns\n",
    "df_hana.columns = df_hana.columns.str.upper()\n",
    "\n",
    "# fill NA with 0 to use equals method\n",
    "df = df.fillna(0)\n",
    "df_hana = df_hana.fillna(0)\n",
    "\n",
    "# change data type of Series to String to equals method\n",
    "df['EFF_DATE'] = df['EFF_DATE'].apply(str)\n",
    "df_hana['EFF_DATE'] = df_hana['EFF_DATE'].apply(str)\n",
    "\n",
    "df_hana.equals(df)"
   ]
  },
  {
   "cell_type": "markdown",
   "metadata": {},
   "source": [
    "# The End"
   ]
  }
 ],
 "metadata": {
  "kernelspec": {
   "display_name": "Python 3",
   "language": "python",
   "name": "python3"
  },
  "language_info": {
   "codemirror_mode": {
    "name": "ipython",
    "version": 3
   },
   "file_extension": ".py",
   "mimetype": "text/x-python",
   "name": "python",
   "nbconvert_exporter": "python",
   "pygments_lexer": "ipython3",
   "version": "3.7.4"
  }
 },
 "nbformat": 4,
 "nbformat_minor": 2
}
