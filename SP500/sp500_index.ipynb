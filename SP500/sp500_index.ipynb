{
  "nbformat": 4,
  "nbformat_minor": 0,
  "metadata": {
    "kernelspec": {
      "display_name": "Python 3",
      "language": "python",
      "name": "python3"
    },
    "language_info": {
      "codemirror_mode": {
        "name": "ipython",
        "version": 3
      },
      "file_extension": ".py",
      "mimetype": "text/x-python",
      "name": "python",
      "nbconvert_exporter": "python",
      "pygments_lexer": "ipython3",
      "version": "3.6.4"
    },
    "colab": {
      "name": "sp500_index.ipynb",
      "provenance": []
    }
  },
  "cells": [
    {
      "cell_type": "markdown",
      "metadata": {
        "id": "wGRXU0MWjP_j",
        "colab_type": "text"
      },
      "source": [
        "# S&P500 \n",
        "https://en.wikipedia.org/wiki/List_of_S%26P_500_companies"
      ]
    },
    {
      "cell_type": "code",
      "metadata": {
        "id": "9cP9bK5YjP_o",
        "colab_type": "code",
        "colab": {}
      },
      "source": [
        "import pandas as pd"
      ],
      "execution_count": 0,
      "outputs": []
    },
    {
      "cell_type": "code",
      "metadata": {
        "id": "DKK9NoNRjP_t",
        "colab_type": "code",
        "colab": {}
      },
      "source": [
        "sp500_wiki_url = 'https://en.wikipedia.org/wiki/List_of_S%26P_500_companies'\n",
        "dfs = pd.read_html(sp500_wiki_url)\n",
        "df = dfs[0]"
      ],
      "execution_count": 0,
      "outputs": []
    },
    {
      "cell_type": "code",
      "metadata": {
        "id": "MQQfqpv4jP_w",
        "colab_type": "code",
        "colab": {
          "base_uri": "https://localhost:8080/",
          "height": 296
        },
        "outputId": "92dd8908-223b-4763-b512-ca1390027a52"
      },
      "source": [
        "df.head()"
      ],
      "execution_count": 11,
      "outputs": [
        {
          "output_type": "execute_result",
          "data": {
            "text/html": [
              "<div>\n",
              "<style scoped>\n",
              "    .dataframe tbody tr th:only-of-type {\n",
              "        vertical-align: middle;\n",
              "    }\n",
              "\n",
              "    .dataframe tbody tr th {\n",
              "        vertical-align: top;\n",
              "    }\n",
              "\n",
              "    .dataframe thead th {\n",
              "        text-align: right;\n",
              "    }\n",
              "</style>\n",
              "<table border=\"1\" class=\"dataframe\">\n",
              "  <thead>\n",
              "    <tr style=\"text-align: right;\">\n",
              "      <th></th>\n",
              "      <th>Symbol</th>\n",
              "      <th>Security</th>\n",
              "      <th>SEC filings</th>\n",
              "      <th>GICS Sector</th>\n",
              "      <th>GICS Sub Industry</th>\n",
              "      <th>Headquarters Location</th>\n",
              "      <th>Date first added</th>\n",
              "      <th>CIK</th>\n",
              "      <th>Founded</th>\n",
              "    </tr>\n",
              "  </thead>\n",
              "  <tbody>\n",
              "    <tr>\n",
              "      <th>0</th>\n",
              "      <td>MMM</td>\n",
              "      <td>3M Company</td>\n",
              "      <td>reports</td>\n",
              "      <td>Industrials</td>\n",
              "      <td>Industrial Conglomerates</td>\n",
              "      <td>St. Paul, Minnesota</td>\n",
              "      <td>1976-08-09</td>\n",
              "      <td>66740</td>\n",
              "      <td>1902</td>\n",
              "    </tr>\n",
              "    <tr>\n",
              "      <th>1</th>\n",
              "      <td>ABT</td>\n",
              "      <td>Abbott Laboratories</td>\n",
              "      <td>reports</td>\n",
              "      <td>Health Care</td>\n",
              "      <td>Health Care Equipment</td>\n",
              "      <td>North Chicago, Illinois</td>\n",
              "      <td>1964-03-31</td>\n",
              "      <td>1800</td>\n",
              "      <td>1888</td>\n",
              "    </tr>\n",
              "    <tr>\n",
              "      <th>2</th>\n",
              "      <td>ABBV</td>\n",
              "      <td>AbbVie Inc.</td>\n",
              "      <td>reports</td>\n",
              "      <td>Health Care</td>\n",
              "      <td>Pharmaceuticals</td>\n",
              "      <td>North Chicago, Illinois</td>\n",
              "      <td>2012-12-31</td>\n",
              "      <td>1551152</td>\n",
              "      <td>2013 (1888)</td>\n",
              "    </tr>\n",
              "    <tr>\n",
              "      <th>3</th>\n",
              "      <td>ABMD</td>\n",
              "      <td>ABIOMED Inc</td>\n",
              "      <td>reports</td>\n",
              "      <td>Health Care</td>\n",
              "      <td>Health Care Equipment</td>\n",
              "      <td>Danvers, Massachusetts</td>\n",
              "      <td>2018-05-31</td>\n",
              "      <td>815094</td>\n",
              "      <td>1981</td>\n",
              "    </tr>\n",
              "    <tr>\n",
              "      <th>4</th>\n",
              "      <td>ACN</td>\n",
              "      <td>Accenture plc</td>\n",
              "      <td>reports</td>\n",
              "      <td>Information Technology</td>\n",
              "      <td>IT Consulting &amp; Other Services</td>\n",
              "      <td>Dublin, Ireland</td>\n",
              "      <td>2011-07-06</td>\n",
              "      <td>1467373</td>\n",
              "      <td>1989</td>\n",
              "    </tr>\n",
              "  </tbody>\n",
              "</table>\n",
              "</div>"
            ],
            "text/plain": [
              "  Symbol             Security  ...      CIK      Founded\n",
              "0    MMM           3M Company  ...    66740         1902\n",
              "1    ABT  Abbott Laboratories  ...     1800         1888\n",
              "2   ABBV          AbbVie Inc.  ...  1551152  2013 (1888)\n",
              "3   ABMD          ABIOMED Inc  ...   815094         1981\n",
              "4    ACN        Accenture plc  ...  1467373         1989\n",
              "\n",
              "[5 rows x 9 columns]"
            ]
          },
          "metadata": {
            "tags": []
          },
          "execution_count": 11
        }
      ]
    },
    {
      "cell_type": "code",
      "metadata": {
        "id": "PclzbnfnjP_5",
        "colab_type": "code",
        "colab": {}
      },
      "source": [
        "df.to_csv('SP500/SP500_list.csv')\n",
        "df.to_csv('SP500/SP500_list_ticker.csv', columns=['Symbol'])"
      ],
      "execution_count": 0,
      "outputs": []
    },
    {
      "cell_type": "markdown",
      "metadata": {
        "id": "lcJ6Eq8NLsnV",
        "colab_type": "text"
      },
      "source": [
        "# Read SP500 symbols from csv file"
      ]
    },
    {
      "cell_type": "code",
      "metadata": {
        "id": "WU_Wo-5VMOHl",
        "colab_type": "code",
        "colab": {}
      },
      "source": [
        "import pandas_datareader.data as web\n",
        "import datetime as dt"
      ],
      "execution_count": 0,
      "outputs": []
    },
    {
      "cell_type": "code",
      "metadata": {
        "id": "hLzTmfwjL6Id",
        "colab_type": "code",
        "colab": {
          "base_uri": "https://localhost:8080/",
          "height": 195
        },
        "outputId": "03509044-c757-4e8f-a90b-021b9de82d1c"
      },
      "source": [
        "df = pd.read_csv('SP500/SP500_list_ticker.csv')"
      ],
      "execution_count": 23,
      "outputs": [
        {
          "output_type": "execute_result",
          "data": {
            "text/html": [
              "<div>\n",
              "<style scoped>\n",
              "    .dataframe tbody tr th:only-of-type {\n",
              "        vertical-align: middle;\n",
              "    }\n",
              "\n",
              "    .dataframe tbody tr th {\n",
              "        vertical-align: top;\n",
              "    }\n",
              "\n",
              "    .dataframe thead th {\n",
              "        text-align: right;\n",
              "    }\n",
              "</style>\n",
              "<table border=\"1\" class=\"dataframe\">\n",
              "  <thead>\n",
              "    <tr style=\"text-align: right;\">\n",
              "      <th></th>\n",
              "      <th>Unnamed: 0</th>\n",
              "      <th>Symbol</th>\n",
              "    </tr>\n",
              "  </thead>\n",
              "  <tbody>\n",
              "    <tr>\n",
              "      <th>0</th>\n",
              "      <td>0</td>\n",
              "      <td>MMM</td>\n",
              "    </tr>\n",
              "    <tr>\n",
              "      <th>1</th>\n",
              "      <td>1</td>\n",
              "      <td>ABT</td>\n",
              "    </tr>\n",
              "    <tr>\n",
              "      <th>2</th>\n",
              "      <td>2</td>\n",
              "      <td>ABBV</td>\n",
              "    </tr>\n",
              "    <tr>\n",
              "      <th>3</th>\n",
              "      <td>3</td>\n",
              "      <td>ABMD</td>\n",
              "    </tr>\n",
              "    <tr>\n",
              "      <th>4</th>\n",
              "      <td>4</td>\n",
              "      <td>ACN</td>\n",
              "    </tr>\n",
              "  </tbody>\n",
              "</table>\n",
              "</div>"
            ],
            "text/plain": [
              "   Unnamed: 0 Symbol\n",
              "0           0    MMM\n",
              "1           1    ABT\n",
              "2           2   ABBV\n",
              "3           3   ABMD\n",
              "4           4    ACN"
            ]
          },
          "metadata": {
            "tags": []
          },
          "execution_count": 23
        }
      ]
    },
    {
      "cell_type": "code",
      "metadata": {
        "id": "wiWvy254Mbi9",
        "colab_type": "code",
        "colab": {}
      },
      "source": [
        "start = '2020-01-01'\n",
        "end = dt.date.today()\n",
        "df = web.DataReader('TSLA', 'yahoo', start, end)"
      ],
      "execution_count": 0,
      "outputs": []
    },
    {
      "cell_type": "code",
      "metadata": {
        "id": "UCzB-t_HN7ll",
        "colab_type": "code",
        "colab": {}
      },
      "source": [
        "df_result = pd.DataFrame(columns=['Stock', 'Start', 'End', '%'])"
      ],
      "execution_count": 0,
      "outputs": []
    }
  ]
}